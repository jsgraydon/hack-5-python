{
 "cells": [
  {
   "cell_type": "code",
   "execution_count": 6,
   "id": "bcca001d-f4c9-4e50-88af-25df9bd68ba1",
   "metadata": {},
   "outputs": [],
   "source": [
    "import random\n",
    "\n",
    "class DiceRoll():\n",
    "    def __init__(self, sides):\n",
    "        self.sides = sides\n",
    "\n",
    "    def roll():\n",
    "         roll = random.choices(range(self.sides))\n",
    "         print(roll)"
   ]
  },
  {
   "cell_type": "code",
   "execution_count": 8,
   "id": "a9759427-9e48-45bb-bf30-003c9e8dc569",
   "metadata": {},
   "outputs": [],
   "source": [
    "die = DiceRoll(6)"
   ]
  },
  {
   "cell_type": "code",
   "execution_count": 9,
   "id": "7c9c0262-8e5c-4808-8080-94b5192359d1",
   "metadata": {},
   "outputs": [
    {
     "ename": "TypeError",
     "evalue": "DiceRoll.roll() takes 0 positional arguments but 1 was given",
     "output_type": "error",
     "traceback": [
      "\u001b[0;31m---------------------------------------------------------------------------\u001b[0m",
      "\u001b[0;31mTypeError\u001b[0m                                 Traceback (most recent call last)",
      "Cell \u001b[0;32mIn[9], line 1\u001b[0m\n\u001b[0;32m----> 1\u001b[0m \u001b[43mdie\u001b[49m\u001b[38;5;241;43m.\u001b[39;49m\u001b[43mroll\u001b[49m\u001b[43m(\u001b[49m\u001b[43m)\u001b[49m\n",
      "\u001b[0;31mTypeError\u001b[0m: DiceRoll.roll() takes 0 positional arguments but 1 was given"
     ]
    }
   ],
   "source": [
    "die.roll()\n"
   ]
  },
  {
   "cell_type": "code",
   "execution_count": null,
   "id": "3b6a9b3b-ef85-4e93-98a6-69fa989d622e",
   "metadata": {},
   "outputs": [],
   "source": []
  }
 ],
 "metadata": {
  "kernelspec": {
   "display_name": "Python 3 (ipykernel)",
   "language": "python",
   "name": "python3"
  },
  "language_info": {
   "codemirror_mode": {
    "name": "ipython",
    "version": 3
   },
   "file_extension": ".py",
   "mimetype": "text/x-python",
   "name": "python",
   "nbconvert_exporter": "python",
   "pygments_lexer": "ipython3",
   "version": "3.12.2"
  }
 },
 "nbformat": 4,
 "nbformat_minor": 5
}
