{
 "cells": [
  {
   "cell_type": "markdown",
   "metadata": {},
   "source": [
    "# Notebook 5.3: Session 5 challenges\n",
    "\n",
    "Here are more challenges to test your knowledge of variables, lists, and for loops."
   ]
  },
  {
   "cell_type": "markdown",
   "metadata": {},
   "source": [
    "### Challenges"
   ]
  },
  {
   "cell_type": "markdown",
   "metadata": {},
   "source": [
    "A. Create code that includes a loop which iterates over the a list of integers and prints the sum. Use\n",
    "this list as a test case [1, 5, 2, 6] and print the results in this form:\n",
    "```\n",
    "The sum of the numbers in the list is 14\n",
    "```\n",
    "\n",
    "Hint: Use the += operator, and a variable which is instantiated outside the loop, but modified inside it."
   ]
  },
  {
   "cell_type": "code",
   "execution_count": 1,
   "metadata": {},
   "outputs": [
    {
     "name": "stdout",
     "output_type": "stream",
     "text": [
      "14\n"
     ]
    }
   ],
   "source": [
    "l_test = [1, 5, 2, 6]\n",
    "\n",
    "x = 0\n",
    "\n",
    "for i in l_test:\n",
    "    x += i\n",
    "\n",
    "print(x)"
   ]
  },
  {
   "cell_type": "markdown",
   "metadata": {},
   "source": [
    "B. Write python code to print the following DNA sequence pattern using a loop.\n",
    "```\n",
    "CATG\n",
    "CATGCATG\n",
    "CATGCATGCATG\n",
    "CATGCATGCATGCATG\n",
    "CATGCATGCATGCATGCATG\n",
    "```"
   ]
  },
  {
   "cell_type": "code",
   "execution_count": 5,
   "metadata": {},
   "outputs": [
    {
     "name": "stdout",
     "output_type": "stream",
     "text": [
      "CATG\n",
      "CATGCATG\n",
      "CATGCATGCATG\n",
      "CATGCATGCATGCATG\n",
      "CATGCATGCATGCATGCATG\n"
     ]
    }
   ],
   "source": [
    "count = 0\n",
    "sequence = \"CATG\"\n",
    "\n",
    "while count < 5:\n",
    "    print(sequence)\n",
    "    sequence += \"CATG\"\n",
    "    count += 1"
   ]
  },
  {
   "cell_type": "markdown",
   "metadata": {},
   "source": [
    "C. Create code with a nested loop based on the list of lists [[\"apple\", \"orange\"], [\"carrot\", \"cabbage\"], [\"chicken\", \"beef\"]] and produces the following output:\n",
    "```\n",
    "apple\n",
    "orange\n",
    "carrot\n",
    "cabbage\n",
    "chicken\n",
    "beef\n",
    "```"
   ]
  },
  {
   "cell_type": "code",
   "execution_count": 6,
   "metadata": {},
   "outputs": [
    {
     "name": "stdout",
     "output_type": "stream",
     "text": [
      "apple\n",
      "orange\n",
      "carrot\n",
      "cabbage\n",
      "chicken\n",
      "beef\n"
     ]
    }
   ],
   "source": [
    "chall_c = [[\"apple\", \"orange\"], [\"carrot\", \"cabbage\"], [\"chicken\", \"beef\"]]\n",
    "\n",
    "for i in chall_c:\n",
    "    for j in i:\n",
    "        print(j)"
   ]
  },
  {
   "cell_type": "markdown",
   "metadata": {},
   "source": [
    "D. Using the same input list of lists as above modify create new code so it prints the following output:\n",
    "```\n",
    "apple\n",
    "carrot\n",
    "chicken\n",
    "orange\n",
    "cabbage\n",
    "beef\n",
    "```"
   ]
  },
  {
   "cell_type": "code",
   "execution_count": 50,
   "metadata": {},
   "outputs": [
    {
     "name": "stdout",
     "output_type": "stream",
     "text": [
      "apple\n",
      "carrot\n",
      "chicken\n",
      "orange\n",
      "cabbage\n",
      "beef\n"
     ]
    }
   ],
   "source": [
    "for i in range(2):\n",
    "    for j in range(3):\n",
    "        print(chall_c[j][i])"
   ]
  },
  {
   "cell_type": "markdown",
   "metadata": {},
   "source": [
    "E. Write a for loop to print the first 20 even numbers starting at 0 (hint: use range())."
   ]
  },
  {
   "cell_type": "code",
   "execution_count": 54,
   "metadata": {},
   "outputs": [
    {
     "name": "stdout",
     "output_type": "stream",
     "text": [
      "2\n",
      "4\n",
      "6\n",
      "8\n",
      "10\n",
      "12\n",
      "14\n",
      "16\n",
      "18\n",
      "20\n",
      "22\n",
      "24\n",
      "26\n",
      "28\n",
      "30\n",
      "32\n",
      "34\n",
      "36\n",
      "38\n",
      "40\n"
     ]
    }
   ],
   "source": [
    "for i in range(2, 41):\n",
    "    if i % 2 == 0:\n",
    "        print(i)"
   ]
  },
  {
   "cell_type": "markdown",
   "metadata": {},
   "source": [
    "F. Write a for loop to print the first 20 odd numbers starting at 101, but print them in descending order."
   ]
  },
  {
   "cell_type": "code",
   "execution_count": 79,
   "metadata": {},
   "outputs": [
    {
     "name": "stdout",
     "output_type": "stream",
     "text": [
      "[101, 99, 97, 95, 93, 91, 89, 87, 85, 83, 81, 79, 77, 75, 73, 71, 69, 67, 65, 63, 61]\n"
     ]
    }
   ],
   "source": [
    "x = []\n",
    "count = 0\n",
    "\n",
    "for i in range(60, 102):\n",
    "    if i % 2 == 1:\n",
    "        count += 1\n",
    "        x.append(i)\n",
    "        \n",
    "x.sort(reverse=True)\n",
    "\n",
    "print(x)"
   ]
  },
  {
   "cell_type": "markdown",
   "metadata": {},
   "source": [
    "G. Using what you have learned in the previous exercises, write code to take a the following \n",
    "DNA sequence and print only the bases with even index. For example if the\n",
    "input sequence is \"GCACGG\" the output should be \"GAG\" (remembering that 0 is also even)."
   ]
  },
  {
   "cell_type": "code",
   "execution_count": 80,
   "metadata": {},
   "outputs": [],
   "source": [
    "seq = \"\"\"\n",
    ">Calumma_boettgeri_voucher_FGZC_462\n",
    "GGAAGTATTAACCAGACACAACTACGAAAACTAATGGCCTACTCATCAATTACTAACC\n",
    "TAGGGTGGACAATAATTATTTTCACAACCGCACCACACATTGCTACACTAAACATTAT\n",
    "TATCTACATAATTATACTCATCCCACTATTCATACTCATTAAAAAAATATCTATAAAA\n",
    "ACACTGCGAGACTCAACAACTACATGAACTACGTCCCCGATAGCAAACACCCTACTAA\n",
    "TGCTAATACTTCTGTCACTAAGTGGTCTTCCCCCCCTCACAGGTTTCACCCCAAAACT\n",
    "TTTAATTTTAAACGAACTAATTTTACAAAATTTAACACCCGCTGCAACAATAATAGCC\n",
    "ATACTATCTCTAATTGGACTATTTTTTTATATCCGAACAAC\n",
    "\"\"\""
   ]
  },
  {
   "cell_type": "code",
   "execution_count": 105,
   "metadata": {},
   "outputs": [
    {
     "name": "stdout",
     "output_type": "stream",
     "text": [
      "AGATACGCCATCAACATGCATACATCACTGGGAATATTTCCACCCAAATCAATACTATTTCTATTCCTCATTCTCCTAAAAACAAAAATCAATACATCTACAGCCGTGAAACTCATCATCTTTATATGCTCCCTAAGTCCCAACTTATTACACATTAAATTAACGTCAATAACAATTTTATGCATTTAACGAAC\n"
     ]
    }
   ],
   "source": [
    "# NB: Answer depends on whether the first character is at position 0 or 1\n",
    "\n",
    "seq_clean = seq[36:].replace(\"\\n\", \"\")\n",
    "\n",
    "seq_clean_even = \"\"\n",
    "\n",
    "for i in range(1, len(seq_clean)):\n",
    "    if i % 2 == 0:\n",
    "        seq_clean_even += seq_clean[i]\n",
    "\n",
    "print(seq_clean_even)"
   ]
  }
 ],
 "metadata": {
  "kernelspec": {
   "display_name": "Python 3 (ipykernel)",
   "language": "python",
   "name": "python3"
  },
  "language_info": {
   "codemirror_mode": {
    "name": "ipython",
    "version": 3
   },
   "file_extension": ".py",
   "mimetype": "text/x-python",
   "name": "python",
   "nbconvert_exporter": "python",
   "pygments_lexer": "ipython3",
   "version": "3.12.2"
  }
 },
 "nbformat": 4,
 "nbformat_minor": 4
}
