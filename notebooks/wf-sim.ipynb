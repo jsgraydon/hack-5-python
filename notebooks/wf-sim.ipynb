{
 "cells": [
  {
   "cell_type": "markdown",
   "id": "d293804f-9797-457c-9473-b11ff90f049d",
   "metadata": {},
   "source": [
    "# Microproject - The Wright-Fisher Model of genetic drift\n"
   ]
  },
  {
   "cell_type": "markdown",
   "id": "30648127-a58c-40c4-90a1-22ffc68bedaf",
   "metadata": {},
   "source": [
    "James Graydon | 10 February 2025 "
   ]
  },
  {
   "cell_type": "code",
   "execution_count": 1,
   "id": "af72353d-1b9b-4a4c-ac4c-7a467dd45313",
   "metadata": {},
   "outputs": [],
   "source": [
    "import random"
   ]
  },
  {
   "cell_type": "markdown",
   "id": "3fda9a71-0d1f-49bd-9ed8-dd58a2de9b0b",
   "metadata": {},
   "source": [
    "## Define a function to initialize the population"
   ]
  },
  {
   "cell_type": "code",
   "execution_count": 2,
   "id": "08a40426-72f6-4732-bdf8-05872a7cb8e2",
   "metadata": {},
   "outputs": [],
   "source": [
    "def init(N, f):\n",
    "    \"\"\"\n",
    "    Return a list of zeroes and ones of length N \n",
    "    where the frequency of ones is f\n",
    "    _____\n",
    "    N: length of output list\n",
    "    f: frequency of ones in output\n",
    "    \"\"\"\n",
    "    n_1 = round(N * f)\n",
    "    n_0 = N - n_1\n",
    "    \n",
    "    return ([0] * n_0) + ([1] * n_1) # creates a list of n_0 zeroes and n_1 ones"
   ]
  },
  {
   "cell_type": "markdown",
   "id": "059f7f42-fa69-4936-aea3-65eba7edf282",
   "metadata": {},
   "source": [
    "## Define a function to perform one WF generation"
   ]
  },
  {
   "cell_type": "code",
   "execution_count": 13,
   "id": "d2389335-6396-44b3-8520-3984cd713ca2",
   "metadata": {},
   "outputs": [],
   "source": [
    "def step(pop):\n",
    "    \"\"\" \n",
    "    Sample from the provided list with replacement\n",
    "    _____\n",
    "    pop: population\n",
    "    \"\"\"\n",
    "    return random.choices(pop, k = len(pop)) "
   ]
  },
  {
   "cell_type": "markdown",
   "id": "e19673d7-ec47-49fa-a412-165872dc59b8",
   "metadata": {},
   "source": [
    "## Define a function to bring it all together"
   ]
  },
  {
   "cell_type": "code",
   "execution_count": 4,
   "id": "264e8580-61b2-4786-a2c8-69441d8daacd",
   "metadata": {},
   "outputs": [],
   "source": [
    "def wf(N, f, ngens):\n",
    "    \"\"\"\n",
    "    Call `init()` and `step()` to simulate genetic drift over time\n",
    "    \"\"\"   \n",
    "    \n",
    "    pop = init(N, f) # Initializes the population to be tested\n",
    "\n",
    "    for _ in range(ngens):\n",
    "        pop = step(pop) \n",
    "\n",
    "    freq_a = sum(pop) / N # Finds the frequency of the derived allele (a)\n",
    "\n",
    "    print(f\"generations: {ngens}; freq(a): {freq_a:0.2f}\")"
   ]
  },
  {
   "cell_type": "markdown",
   "id": "b8adaf43-b69f-4f6a-a017-db5767053037",
   "metadata": {},
   "source": [
    "#### `wf()` example:"
   ]
  },
  {
   "cell_type": "code",
   "execution_count": 5,
   "id": "00ad7396-2bea-4aef-b09e-c4095a3a9274",
   "metadata": {},
   "outputs": [
    {
     "name": "stdout",
     "output_type": "stream",
     "text": [
      "generations: 10; freq(a): 0.40\n"
     ]
    }
   ],
   "source": [
    "wf(N = 100, f = 0.2, ngens = 10)"
   ]
  },
  {
   "cell_type": "markdown",
   "id": "dbaa7ffe-a3c1-498b-8815-d03e26e593fa",
   "metadata": {},
   "source": [
    "## Challenge 1: Modified wf() function to test for fixation or loss of allele 1"
   ]
  },
  {
   "cell_type": "code",
   "execution_count": 6,
   "id": "d7ec3e92-a434-45f7-8939-30c354b1dcad",
   "metadata": {},
   "outputs": [],
   "source": [
    "def wf_fixloss(N, f, ngens):\n",
    "    pop = init(N, f)\n",
    "\n",
    "    gen = 0\n",
    "\n",
    "    for _ in range(ngens):\n",
    "        pop = step(pop)\n",
    "        freq_a = sum(pop) / N # Finds the frequency of the derived allele (a)\n",
    "\n",
    "        # Checks if the allele has become lost or fixed and breaks for-loop if so\n",
    "        if freq_a == 0:\n",
    "            print(f\"The allele was lost after {gen} generations.\")\n",
    "            break \n",
    "        elif freq_a == 1:\n",
    "            print(f\"The allele became fixed after {gen} generations.\")\n",
    "            break \n",
    "        else:\n",
    "            gen += 1 \n",
    "\n",
    "    print(f\"generations: {gen}; freq(a): {freq_a:0.2f}\")"
   ]
  },
  {
   "cell_type": "markdown",
   "id": "5ba84d5c-a63c-4de0-ab94-e7b5298d55d7",
   "metadata": {},
   "source": [
    "#### `wf_fixloss` example 1:"
   ]
  },
  {
   "cell_type": "code",
   "execution_count": 7,
   "id": "33082267-8fad-49e8-9666-8beda808965b",
   "metadata": {},
   "outputs": [
    {
     "name": "stdout",
     "output_type": "stream",
     "text": [
      "The allele was lost after 3 generations.\n",
      "generations: 3; freq(a): 0.00\n"
     ]
    }
   ],
   "source": [
    "wf_fixloss(N = 100, f = 0.1, ngens = 1000)"
   ]
  },
  {
   "cell_type": "markdown",
   "id": "b933dcd6-09ca-4471-91ae-da5c9f35bee7",
   "metadata": {},
   "source": [
    "#### `wf_fixloss` example 2:"
   ]
  },
  {
   "cell_type": "code",
   "execution_count": 8,
   "id": "87f3b480-c21f-468d-a762-fbb4e3d2c3ea",
   "metadata": {},
   "outputs": [
    {
     "name": "stdout",
     "output_type": "stream",
     "text": [
      "The allele became fixed after 3 generations.\n",
      "generations: 3; freq(a): 1.00\n"
     ]
    }
   ],
   "source": [
    "wf_fixloss(N = 10, f = 0.9, ngens = 1000)"
   ]
  },
  {
   "cell_type": "markdown",
   "id": "40069e6f-32bf-4594-aa23-1296e3fa59e8",
   "metadata": {},
   "source": [
    "## Challenge 2: Track allele frequency through time"
   ]
  },
  {
   "cell_type": "code",
   "execution_count": 9,
   "id": "bf21755b-adb5-437e-801f-193f28001f4d",
   "metadata": {},
   "outputs": [
    {
     "data": {
      "text/plain": [
       "[0.2, 0.2, 0.1, 0.1, 0.2, 0.3, 0.3, 0.6, 0.5, 0.4]"
      ]
     },
     "execution_count": 9,
     "metadata": {},
     "output_type": "execute_result"
    }
   ],
   "source": [
    "def wf_track(N, f, ngens, return_n = None):\n",
    "    pop = init(N, f) # Initializes the population to be tested\n",
    "    l_freq = [f]\n",
    "\n",
    "    for i in range(ngens):\n",
    "        freq_a = sum(pop) / N # Finds the frequency of the derived allele (a)\n",
    "        \n",
    "        pop = step(pop) # Applies random changes to the `pop` consistent with genetic drift over time\n",
    "        \n",
    "        l_freq.append(freq_a)\n",
    "\n",
    "    if return_n == None:\n",
    "        l_freq = l_freq[0:ngens]\n",
    "    else:\n",
    "        l_freq = l_freq[0:return_n]\n",
    "    \n",
    "    return l_freq\n",
    "\n",
    "wf_track(N = 10, f = 0.2, ngens = 1000, return_n = 10)"
   ]
  },
  {
   "cell_type": "markdown",
   "id": "8646c3a3-af91-4789-8646-0f73da3050dd",
   "metadata": {},
   "source": [
    "## Challenge 3: Wrap the wf() call inside an iterate_wf() function"
   ]
  },
  {
   "cell_type": "code",
   "execution_count": 10,
   "id": "6e59910c-5b01-4cdf-91fe-012d86803cc4",
   "metadata": {},
   "outputs": [],
   "source": [
    "def wf_fixloss_simple(N, f, gens):\n",
    "    # A simplified version of `wf_fixloss()` which returns 1 if the allele becomes fixed or 0 if not\n",
    "    pop = init(N, f)\n",
    "\n",
    "    gen = 0\n",
    "\n",
    "    for _ in range(gens):\n",
    "        pop = step(pop)\n",
    "        freq_a = sum(pop) / N # Finds the frequency of the derived allele (a)\n",
    "\n",
    "        # Checks if the allele has become fixed, returns 1 if so\n",
    "        if freq_a == 1:\n",
    "            return 1 \n",
    "\n",
    "    return 0"
   ]
  },
  {
   "cell_type": "code",
   "execution_count": 12,
   "id": "411e5909-d566-4d5d-b23b-9bdd0a094138",
   "metadata": {},
   "outputs": [
    {
     "name": "stdout",
     "output_type": "stream",
     "text": [
      "The dervied allele became fixed in ~22% of runs.\n"
     ]
    }
   ],
   "source": [
    "def iterate_wf(N, f, gens, times):\n",
    "    # Runs `wf_fixloss_simple()` `times` times and returns the number of runs \n",
    "    # that resulted in the fixation of the dervied allele\n",
    "\n",
    "    n_fixed = 0 # Initialize number of times wf function returns a fixed allele\n",
    "    \n",
    "    for _ in range(times):\n",
    "        x = wf_fixloss_simple(N = N, f = f, gens = gens)\n",
    "        if x == 1:\n",
    "            n_fixed += 1\n",
    "\n",
    "    freq_fixed = n_fixed / times\n",
    "\n",
    "    return print(f\"The dervied allele became fixed in ~{freq_fixed:.0%} of runs.\")\n",
    "\n",
    "iterate_wf(N = 100, f = 0.2, gens = 1000, times = 100)\n",
    "    "
   ]
  },
  {
   "cell_type": "markdown",
   "id": "759d24bc-962e-4d6c-953f-3276a35cc1b7",
   "metadata": {},
   "source": [
    "*Disclaimer: ChatGPT-4o was used to simplify and verify the functionality the answers presented above.*"
   ]
  }
 ],
 "metadata": {
  "kernelspec": {
   "display_name": "Python 3 (ipykernel)",
   "language": "python",
   "name": "python3"
  },
  "language_info": {
   "codemirror_mode": {
    "name": "ipython",
    "version": 3
   },
   "file_extension": ".py",
   "mimetype": "text/x-python",
   "name": "python",
   "nbconvert_exporter": "python",
   "pygments_lexer": "ipython3",
   "version": "3.12.2"
  }
 },
 "nbformat": 4,
 "nbformat_minor": 5
}
