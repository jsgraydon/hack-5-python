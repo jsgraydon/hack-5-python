{
 "cells": [
  {
   "cell_type": "code",
   "execution_count": 3,
   "id": "b770f392-a7c9-47f7-a9dc-90f3396b4c7d",
   "metadata": {},
   "outputs": [],
   "source": [
    "import numpy as np\n",
    "import random\n",
    "\n",
    "class Population:\n",
    "    def __init__(self, N=10, f=0.2, with_np=False):\n",
    "        self.N = N\n",
    "        self.f = f\n",
    "        self.Nf = round(N * f)\n",
    "        self.with_np = with_np\n",
    "\n",
    "        Nf = round(N * f)\n",
    "\n",
    "        if with_np == True:\n",
    "            self.pop = np.repeat([0, 1], [N - Nf, Nf])\n",
    "        else:\n",
    "            self.pop = ([0] * (N-Nf)) + ([1] * Nf)\n",
    "\n",
    "    def step(self, ngens=1):\n",
    "        for i in range(ngens):\n",
    "            \n",
    "            if self.with_np == True:\n",
    "                self.pop[:] = self.pop[np.random.randint(0, high = self.N, size = self.N)]\n",
    "            else:\n",
    "                self.pop = random.choices(self.pop, k = self.N)\n",
    "\n",
    "        return self.pop\n",
    "\n",
    "    def __repr__(self):\n",
    "        return f\"Population(N={self.N}, f={self.f})\""
   ]
  },
  {
   "cell_type": "code",
   "execution_count": 32,
   "id": "21b8bae2-fe08-4b02-9a22-75efc1e57677",
   "metadata": {},
   "outputs": [
    {
     "name": "stdout",
     "output_type": "stream",
     "text": [
      "Population(N=100, f=0.2)\n"
     ]
    }
   ],
   "source": [
    "pop = Population(N = 100, f = 0.2, with_np = True)\n",
    "print(pop)"
   ]
  },
  {
   "cell_type": "code",
   "execution_count": 35,
   "id": "14b1abea-2cc9-4a29-888c-8ee0ed6a09e0",
   "metadata": {},
   "outputs": [],
   "source": [
    "pop_step = pop.step(ngens = 10)"
   ]
  },
  {
   "cell_type": "code",
   "execution_count": 36,
   "id": "a68dbf9b-4c6a-4a75-98ca-e75ca63fd02f",
   "metadata": {},
   "outputs": [
    {
     "name": "stdout",
     "output_type": "stream",
     "text": [
      "[0 0 0 0 0 0 1 0 0 0 0 0 0 0 0 0 0 0 0 0 0 0 0 0 0 0 0 0 0 1 0 0 0 0 0 0 0\n",
      " 0 0 0 0 0 1 0 0 0 0 0 0 0 0 0 0 0 0 0 0 0 0 0 0 1 0 0 0 0 1 0 0 0 0 0 0 0\n",
      " 0 0 0 0 0 0 0 0 0 0 0 0 0 0 1 0 0 1 0 0 0 0 1 0 0 0]\n"
     ]
    }
   ],
   "source": [
    "print(pop_step)"
   ]
  },
  {
   "cell_type": "code",
   "execution_count": 6,
   "id": "a1e4246a-076e-4e11-8f0e-1f0e4a19426b",
   "metadata": {},
   "outputs": [],
   "source": [
    "with_np = False\n",
    "results = np.array([]) if with_np else []"
   ]
  },
  {
   "cell_type": "code",
   "execution_count": 5,
   "id": "9edaedbe-0531-451a-8f46-dcc856734139",
   "metadata": {},
   "outputs": [
    {
     "ename": "AttributeError",
     "evalue": "'numpy.ndarray' object has no attribute 'type'",
     "output_type": "error",
     "traceback": [
      "\u001b[0;31m---------------------------------------------------------------------------\u001b[0m",
      "\u001b[0;31mAttributeError\u001b[0m                            Traceback (most recent call last)",
      "Cell \u001b[0;32mIn[5], line 1\u001b[0m\n\u001b[0;32m----> 1\u001b[0m \u001b[43mresults\u001b[49m\u001b[38;5;241;43m.\u001b[39;49m\u001b[43mtype\u001b[49m\n",
      "\u001b[0;31mAttributeError\u001b[0m: 'numpy.ndarray' object has no attribute 'type'"
     ]
    }
   ],
   "source": [
    "results."
   ]
  },
  {
   "cell_type": "code",
   "execution_count": null,
   "id": "71afddb4-b3b6-4475-8db5-a8f5df5f12a4",
   "metadata": {},
   "outputs": [],
   "source": []
  }
 ],
 "metadata": {
  "kernelspec": {
   "display_name": "Python 3 (ipykernel)",
   "language": "python",
   "name": "python3"
  },
  "language_info": {
   "codemirror_mode": {
    "name": "ipython",
    "version": 3
   },
   "file_extension": ".py",
   "mimetype": "text/x-python",
   "name": "python",
   "nbconvert_exporter": "python",
   "pygments_lexer": "ipython3",
   "version": "3.12.2"
  }
 },
 "nbformat": 4,
 "nbformat_minor": 5
}
